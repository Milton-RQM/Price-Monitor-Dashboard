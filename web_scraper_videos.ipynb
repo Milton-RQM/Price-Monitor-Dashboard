{
 "cells": [
  {
   "cell_type": "code",
   "execution_count": 1,
   "metadata": {},
   "outputs": [],
   "source": [
    "import requests\n",
    "import pandas as pd\n",
    "import openpyxl\n",
    "import time\n",
    "from selenium import webdriver\n",
    "from selenium.webdriver.chrome.service import Service\n",
    "from webdriver_manager.chrome import ChromeDriverManager\n",
    "from selenium.webdriver.common.by import By"
   ]
  },
  {
   "cell_type": "code",
   "execution_count": 2,
   "metadata": {},
   "outputs": [
    {
     "name": "stdout",
     "output_type": "stream",
     "text": [
      "\n"
     ]
    }
   ],
   "source": [
    "\n",
    "results = []\n",
    "driver = webdriver.Chrome(service=Service(ChromeDriverManager().install()))\n",
    "\n",
    "driver.get('https://www.youtube.com/@miltonquinonez9214/videos')\n",
    "driver.maximize_window()\n",
    "time.sleep(5)\n"
   ]
  },
  {
   "cell_type": "code",
   "execution_count": 11,
   "metadata": {},
   "outputs": [],
   "source": [
    "driver.find_element(By.ID, value=\"CybotCookiebotDialogBodyLevelButtonLevelOptinAllowAll\").click()\n",
    "time.sleep(2)"
   ]
  },
  {
   "cell_type": "code",
   "execution_count": 12,
   "metadata": {},
   "outputs": [
    {
     "name": "stdout",
     "output_type": "stream",
     "text": [
      "15\n"
     ]
    }
   ],
   "source": [
    "#driver.find_element(By.XPATH, value='//*[@id=\"__next\"]/div/div[4]/div/div/div[1]/div[2]/div[3]/div/div[2]/div/ul/li[5]/a').text\n",
    "cantidad = driver.find_element(By.XPATH, value='//div[@id=\\'__next\\']/div/div[3]/div/div/div/div/div[3]/div/div[2]/div/ul/li[5]').text\n",
    "print(cantidad)\n",
    "#cantidad=30\n",
    "siguiente = driver.find_element(By.XPATH, value='//div[@id=\\'__next\\']/div/div[3]/div/div/div/div/div[3]/div/div[2]/div/span[2]')\n",
    "results = []"
   ]
  },
  {
   "cell_type": "code",
   "execution_count": 13,
   "metadata": {},
   "outputs": [
    {
     "name": "stdout",
     "output_type": "stream",
     "text": [
      "extracting website data page: 1\n",
      "extracting website data page: 2\n",
      "extracting website data page: 3\n",
      "extracting website data page: 4\n",
      "extracting website data page: 5\n",
      "extracting website data page: 6\n",
      "extracting website data page: 7\n",
      "extracting website data page: 8\n",
      "extracting website data page: 9\n",
      "extracting website data page: 10\n",
      "extracting website data page: 11\n",
      "extracting website data page: 12\n",
      "extracting website data page: 13\n",
      "extracting website data page: 14\n",
      "extracting website data page: 15\n"
     ]
    }
   ],
   "source": [
    "for x in range(int(cantidad)):\n",
    "    print('extracting website data page: '+str(x+1))\n",
    "    elem = driver.find_elements(By.XPATH, value='//*[@id=\"cell-1-undefined\"]/a')\n",
    "    town = driver.find_elements(By.XPATH, value='//*[@id=\"cell-2-undefined\"]')\n",
    "    country = driver.find_elements(By.XPATH, value='//*[@id=\"cell-3-undefined\"]')\n",
    "    published = driver.find_elements(By.XPATH, value='//*[@id=\"cell-4-undefined\"]')\n",
    "    for i in range(len(elem)):\n",
    "        #print(str(i)+\" \"+elem[i].text.replace('\\n', '')+\" \"+elem[i].get_attribute('href'))\n",
    "        temporal_data={\"Name\":elem[i].text.replace('\\n', ''),\n",
    "                       \"Link\":elem[i].get_attribute('href'),\n",
    "                       \"Town\":town[i].text,\n",
    "                       \"Country\":country[i].text,\n",
    "                       \"Published\":published[i].text,\n",
    "                        \"Url\":'=HYPERLINK(\"'+elem[i].get_attribute('href')+'\", \"'+ elem[i].text.replace('\\n', '')+'\")'\n",
    "                      }\n",
    "        \n",
    "        results.append(temporal_data)\n",
    "    siguiente.click()\n",
    "    time.sleep(3)"
   ]
  },
  {
   "cell_type": "code",
   "execution_count": null,
   "metadata": {},
   "outputs": [],
   "source": [
    "df_data=pd.DataFrame(results)\n",
    "df_data['Published']=pd.to_datetime(df_data['Published']).dt.date"
   ]
  },
  {
   "cell_type": "code",
   "execution_count": null,
   "metadata": {},
   "outputs": [],
   "source": [
    "\n",
    "df_data.to_excel('Data_Rip.xlsx')"
   ]
  },
  {
   "cell_type": "code",
   "execution_count": null,
   "metadata": {},
   "outputs": [],
   "source": [
    "driver.quit()"
   ]
  }
 ],
 "metadata": {
  "kernelspec": {
   "display_name": "Python 3.10.5 64-bit",
   "language": "python",
   "name": "python3"
  },
  "language_info": {
   "codemirror_mode": {
    "name": "ipython",
    "version": 3
   },
   "file_extension": ".py",
   "mimetype": "text/x-python",
   "name": "python",
   "nbconvert_exporter": "python",
   "pygments_lexer": "ipython3",
   "version": "3.10.5"
  },
  "orig_nbformat": 4,
  "vscode": {
   "interpreter": {
    "hash": "afe4b9145d4ce08dc9b36e334e11bb43ca4050d267707cf481003ecc6759b672"
   }
  }
 },
 "nbformat": 4,
 "nbformat_minor": 2
}
